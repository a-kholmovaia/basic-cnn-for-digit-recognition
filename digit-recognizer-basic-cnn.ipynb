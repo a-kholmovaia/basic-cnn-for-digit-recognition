{
 "cells": [
  {
   "cell_type": "code",
   "execution_count": 1,
   "id": "d35b50ef",
   "metadata": {
    "execution": {
     "iopub.execute_input": "2022-06-05T06:31:15.817458Z",
     "iopub.status.busy": "2022-06-05T06:31:15.816424Z",
     "iopub.status.idle": "2022-06-05T06:31:22.331066Z",
     "shell.execute_reply": "2022-06-05T06:31:22.327339Z"
    },
    "papermill": {
     "duration": 6.524154,
     "end_time": "2022-06-05T06:31:22.334394",
     "exception": false,
     "start_time": "2022-06-05T06:31:15.810240",
     "status": "completed"
    },
    "tags": []
   },
   "outputs": [
    {
     "name": "stdout",
     "output_type": "stream",
     "text": [
      "/kaggle/input/digit-recognizer/sample_submission.csv\n",
      "/kaggle/input/digit-recognizer/train.csv\n",
      "/kaggle/input/digit-recognizer/test.csv\n"
     ]
    }
   ],
   "source": [
    "import numpy as np # linear algebra\n",
    "import pandas as pd # data processing, CSV file I/O (e.g. pd.read_csv)\n",
    "from tensorflow.keras.utils import to_categorical \n",
    "import tensorflow as tf\n",
    "from tensorflow.keras.models import Sequential\n",
    "from tensorflow.keras.layers import Conv2D, MaxPool2D, Flatten, Dropout, Dense, BatchNormalization, Activation\n",
    "from tensorflow.keras.optimizers import Adam\n",
    "from sklearn.model_selection import train_test_split\n",
    "import keras.preprocessing\n",
    "import matplotlib.pyplot as plt\n",
    "\n",
    "\n",
    "import os\n",
    "for dirname, _, filenames in os.walk('/kaggle/input'):\n",
    "    for filename in filenames:\n",
    "        print(os.path.join(dirname, filename))"
   ]
  },
  {
   "cell_type": "markdown",
   "id": "9aaa20a0",
   "metadata": {
    "papermill": {
     "duration": 0.003632,
     "end_time": "2022-06-05T06:31:22.342958",
     "exception": false,
     "start_time": "2022-06-05T06:31:22.339326",
     "status": "completed"
    },
    "tags": []
   },
   "source": [
    "# Loading and reshaping data"
   ]
  },
  {
   "cell_type": "code",
   "execution_count": 2,
   "id": "8ba11795",
   "metadata": {
    "execution": {
     "iopub.execute_input": "2022-06-05T06:31:22.352130Z",
     "iopub.status.busy": "2022-06-05T06:31:22.351536Z",
     "iopub.status.idle": "2022-06-05T06:31:27.592082Z",
     "shell.execute_reply": "2022-06-05T06:31:27.591112Z"
    },
    "papermill": {
     "duration": 5.247649,
     "end_time": "2022-06-05T06:31:27.594330",
     "exception": false,
     "start_time": "2022-06-05T06:31:22.346681",
     "status": "completed"
    },
    "tags": []
   },
   "outputs": [],
   "source": [
    "train = pd.read_csv(\"/kaggle/input/digit-recognizer/train.csv\")\n",
    "y_train = to_categorical(train.pop(\"label\"))\n",
    "test = pd.read_csv(\"/kaggle/input/digit-recognizer/test.csv\")"
   ]
  },
  {
   "cell_type": "code",
   "execution_count": 3,
   "id": "56f60d48",
   "metadata": {
    "execution": {
     "iopub.execute_input": "2022-06-05T06:31:27.603870Z",
     "iopub.status.busy": "2022-06-05T06:31:27.603519Z",
     "iopub.status.idle": "2022-06-05T06:31:27.956635Z",
     "shell.execute_reply": "2022-06-05T06:31:27.955666Z"
    },
    "papermill": {
     "duration": 0.36044,
     "end_time": "2022-06-05T06:31:27.958984",
     "exception": false,
     "start_time": "2022-06-05T06:31:27.598544",
     "status": "completed"
    },
    "tags": []
   },
   "outputs": [],
   "source": [
    "shape = (28, 28,1)\n",
    "X_train = np.reshape(train.to_numpy(), (len(train), *shape))/255\n",
    "X_test = np.reshape(test.to_numpy(), (len(test), *shape))/255"
   ]
  },
  {
   "cell_type": "code",
   "execution_count": 4,
   "id": "691751a5",
   "metadata": {
    "execution": {
     "iopub.execute_input": "2022-06-05T06:31:27.968374Z",
     "iopub.status.busy": "2022-06-05T06:31:27.967585Z",
     "iopub.status.idle": "2022-06-05T06:31:28.257551Z",
     "shell.execute_reply": "2022-06-05T06:31:28.256254Z"
    },
    "papermill": {
     "duration": 0.29846,
     "end_time": "2022-06-05T06:31:28.261452",
     "exception": false,
     "start_time": "2022-06-05T06:31:27.962992",
     "status": "completed"
    },
    "tags": []
   },
   "outputs": [
    {
     "name": "stdout",
     "output_type": "stream",
     "text": [
      "[0. 0. 1. 0. 0. 0. 0. 0. 0. 0.]\n"
     ]
    },
    {
     "data": {
      "image/png": "[encoded data removed]",
      "text/plain": [
       "<Figure size 432x288 with 1 Axes>"
      ]
     },
     "metadata": {
      "needs_background": "light"
     },
     "output_type": "display_data"
    }
   ],
   "source": [
    "plt.imshow(X_train[34])\n",
    "print(y_train[34])"
   ]
  },
  {
   "cell_type": "markdown",
   "id": "4ddfc4b7",
   "metadata": {
    "papermill": {
     "duration": 0.006555,
     "end_time": "2022-06-05T06:31:28.277384",
     "exception": false,
     "start_time": "2022-06-05T06:31:28.270829",
     "status": "completed"
    },
    "tags": []
   },
   "source": [
    "# Modelling"
   ]
  },
  {
   "cell_type": "code",
   "execution_count": 5,
   "id": "57c1239f",
   "metadata": {
    "execution": {
     "iopub.execute_input": "2022-06-05T06:31:28.293217Z",
     "iopub.status.busy": "2022-06-05T06:31:28.292488Z",
     "iopub.status.idle": "2022-06-05T06:31:31.547910Z",
     "shell.execute_reply": "2022-06-05T06:31:31.546603Z"
    },
    "papermill": {
     "duration": 3.267367,
     "end_time": "2022-06-05T06:31:31.551042",
     "exception": false,
     "start_time": "2022-06-05T06:31:28.283675",
     "status": "completed"
    },
    "tags": []
   },
   "outputs": [
    {
     "name": "stderr",
     "output_type": "stream",
     "text": [
      "2022-06-05 06:31:28.421637: I tensorflow/stream_executor/cuda/cuda_gpu_executor.cc:937] successful NUMA node read from SysFS had negative value (-1), but there must be at least one NUMA node, so returning NUMA node zero\n",
      "2022-06-05 06:31:28.562294: I tensorflow/stream_executor/cuda/cuda_gpu_executor.cc:937] successful NUMA node read from SysFS had negative value (-1), but there must be at least one NUMA node, so returning NUMA node zero\n",
      "2022-06-05 06:31:28.563810: I tensorflow/stream_executor/cuda/cuda_gpu_executor.cc:937] successful NUMA node read from SysFS had negative value (-1), but there must be at least one NUMA node, so returning NUMA node zero\n",
      "2022-06-05 06:31:28.567273: I tensorflow/core/platform/cpu_feature_guard.cc:142] This TensorFlow binary is optimized with oneAPI Deep Neural Network Library (oneDNN) to use the following CPU instructions in performance-critical operations:  AVX2 AVX512F FMA\n",
      "To enable them in other operations, rebuild TensorFlow with the appropriate compiler flags.\n",
      "2022-06-05 06:31:28.567899: I tensorflow/stream_executor/cuda/cuda_gpu_executor.cc:937] successful NUMA node read from SysFS had negative value (-1), but there must be at least one NUMA node, so returning NUMA node zero\n",
      "2022-06-05 06:31:28.569436: I tensorflow/stream_executor/cuda/cuda_gpu_executor.cc:937] successful NUMA node read from SysFS had negative value (-1), but there must be at least one NUMA node, so returning NUMA node zero\n",
      "2022-06-05 06:31:28.571087: I tensorflow/stream_executor/cuda/cuda_gpu_executor.cc:937] successful NUMA node read from SysFS had negative value (-1), but there must be at least one NUMA node, so returning NUMA node zero\n",
      "2022-06-05 06:31:30.951885: I tensorflow/stream_executor/cuda/cuda_gpu_executor.cc:937] successful NUMA node read from SysFS had negative value (-1), but there must be at least one NUMA node, so returning NUMA node zero\n",
      "2022-06-05 06:31:30.953129: I tensorflow/stream_executor/cuda/cuda_gpu_executor.cc:937] successful NUMA node read from SysFS had negative value (-1), but there must be at least one NUMA node, so returning NUMA node zero\n",
      "2022-06-05 06:31:30.954029: I tensorflow/stream_executor/cuda/cuda_gpu_executor.cc:937] successful NUMA node read from SysFS had negative value (-1), but there must be at least one NUMA node, so returning NUMA node zero\n",
      "2022-06-05 06:31:30.954826: I tensorflow/core/common_runtime/gpu/gpu_device.cc:1510] Created device /job:localhost/replica:0/task:0/device:GPU:0 with 15403 MB memory:  -> device: 0, name: Tesla P100-PCIE-16GB, pci bus id: 0000:00:04.0, compute capability: 6.0\n"
     ]
    },
    {
     "name": "stdout",
     "output_type": "stream",
     "text": [
      "Model: \"sequential\"\n",
      "_________________________________________________________________\n",
      "Layer (type)                 Output Shape              Param #   \n",
      "=================================================================\n",
      "random_flip (RandomFlip)     (None, 28, 28, 1)         0         \n",
      "_________________________________________________________________\n",
      "random_contrast (RandomContr (None, 28, 28, 1)         0         \n",
      "_________________________________________________________________\n",
      "conv2d (Conv2D)              (None, 28, 28, 16)        160       \n",
      "_________________________________________________________________\n",
      "batch_normalization (BatchNo (None, 28, 28, 16)        64        \n",
      "_________________________________________________________________\n",
      "activation (Activation)      (None, 28, 28, 16)        0         \n",
      "_________________________________________________________________\n",
      "max_pooling2d (MaxPooling2D) (None, 14, 14, 16)        0         \n",
      "_________________________________________________________________\n",
      "dropout (Dropout)            (None, 14, 14, 16)        0         \n",
      "_________________________________________________________________\n",
      "conv2d_1 (Conv2D)            (None, 14, 14, 32)        4640      \n",
      "_________________________________________________________________\n",
      "batch_normalization_1 (Batch (None, 14, 14, 32)        128       \n",
      "_________________________________________________________________\n",
      "activation_1 (Activation)    (None, 14, 14, 32)        0         \n",
      "_________________________________________________________________\n",
      "max_pooling2d_1 (MaxPooling2 (None, 7, 7, 32)          0         \n",
      "_________________________________________________________________\n",
      "dropout_1 (Dropout)          (None, 7, 7, 32)          0         \n",
      "_________________________________________________________________\n",
      "flatten (Flatten)            (None, 1568)              0         \n",
      "_________________________________________________________________\n",
      "dense (Dense)                (None, 128)               200832    \n",
      "_________________________________________________________________\n",
      "dense_1 (Dense)              (None, 64)                8256      \n",
      "_________________________________________________________________\n",
      "dense_2 (Dense)              (None, 32)                2080      \n",
      "_________________________________________________________________\n",
      "dense_3 (Dense)              (None, 10)                330       \n",
      "=================================================================\n",
      "Total params: 216,490\n",
      "Trainable params: 216,394\n",
      "Non-trainable params: 96\n",
      "_________________________________________________________________\n"
     ]
    }
   ],
   "source": [
    "from tensorflow.keras.layers.experimental import preprocessing\n",
    "\n",
    "model = Sequential()\n",
    "model.add(preprocessing.RandomFlip('horizontal', input_shape=[28,28,1])) # random flipping the images to teach cnn to ignore such transformations\n",
    "model.add(preprocessing.RandomContrast(0.5))\n",
    "model.add(Conv2D(filters=16, kernel_size=3, padding=\"same\"))\n",
    "model.add(BatchNormalization())\n",
    "model.add(Activation(\"relu\"))\n",
    "model.add(MaxPool2D())\n",
    "model.add(Dropout(0.3))\n",
    "model.add(Conv2D(filters=32, kernel_size=3, padding=\"same\"))\n",
    "model.add(BatchNormalization())\n",
    "model.add(Activation(\"relu\"))\n",
    "model.add(MaxPool2D())\n",
    "model.add(Dropout(0.3))\n",
    "model.add(Flatten())\n",
    "model.add(Dense(128, activation=\"relu\"))\n",
    "model.add(Dense(64, activation=\"relu\"))\n",
    "model.add(Dense(32, activation=\"relu\"))\n",
    "model.add(Dense(10, activation=\"softmax\"))\n",
    "\n",
    "model.compile(\n",
    "    optimizer='adam',\n",
    "    loss='categorical_crossentropy',\n",
    "    metrics=['accuracy']\n",
    ")\n",
    "\n",
    "model.summary()"
   ]
  },
  {
   "cell_type": "code",
   "execution_count": 6,
   "id": "dffc0a88",
   "metadata": {
    "execution": {
     "iopub.execute_input": "2022-06-05T06:31:31.563065Z",
     "iopub.status.busy": "2022-06-05T06:31:31.562676Z",
     "iopub.status.idle": "2022-06-05T06:32:54.693513Z",
     "shell.execute_reply": "2022-06-05T06:32:54.692479Z"
    },
    "papermill": {
     "duration": 83.139766,
     "end_time": "2022-06-05T06:32:54.695932",
     "exception": false,
     "start_time": "2022-06-05T06:31:31.556166",
     "status": "completed"
    },
    "tags": []
   },
   "outputs": [
    {
     "name": "stderr",
     "output_type": "stream",
     "text": [
      "2022-06-05 06:31:31.928792: I tensorflow/compiler/mlir/mlir_graph_optimization_pass.cc:185] None of the MLIR Optimization Passes are enabled (registered 2)\n"
     ]
    },
    {
     "name": "stdout",
     "output_type": "stream",
     "text": [
      "Epoch 1/50\n"
     ]
    },
    {
     "name": "stderr",
     "output_type": "stream",
     "text": [
      "2022-06-05 06:31:33.730563: I tensorflow/stream_executor/cuda/cuda_dnn.cc:369] Loaded cuDNN version 8005\n"
     ]
    },
    {
     "name": "stdout",
     "output_type": "stream",
     "text": [
      "68/68 [==============================] - 9s 16ms/step - loss: 1.0894 - accuracy: 0.6325 - val_loss: 1.9176 - val_accuracy: 0.2594\n",
      "Epoch 2/50\n",
      "68/68 [==============================] - 1s 10ms/step - loss: 0.4443 - accuracy: 0.8489 - val_loss: 2.2994 - val_accuracy: 0.1779\n",
      "Epoch 3/50\n",
      "68/68 [==============================] - 1s 10ms/step - loss: 0.3271 - accuracy: 0.8898 - val_loss: 2.4648 - val_accuracy: 0.1923\n",
      "Epoch 4/50\n",
      "68/68 [==============================] - 1s 10ms/step - loss: 0.2716 - accuracy: 0.9094 - val_loss: 1.9422 - val_accuracy: 0.3063\n",
      "Epoch 5/50\n",
      "68/68 [==============================] - 1s 10ms/step - loss: 0.2315 - accuracy: 0.9240 - val_loss: 1.2263 - val_accuracy: 0.5587\n",
      "Epoch 6/50\n",
      "68/68 [==============================] - 1s 10ms/step - loss: 0.1907 - accuracy: 0.9381 - val_loss: 0.6174 - val_accuracy: 0.8138\n",
      "Epoch 7/50\n",
      "68/68 [==============================] - 1s 10ms/step - loss: 0.1610 - accuracy: 0.9488 - val_loss: 0.2274 - val_accuracy: 0.9365\n",
      "Epoch 8/50\n",
      "68/68 [==============================] - 1s 10ms/step - loss: 0.1487 - accuracy: 0.9522 - val_loss: 0.1307 - val_accuracy: 0.9619\n",
      "Epoch 9/50\n",
      "68/68 [==============================] - 1s 10ms/step - loss: 0.1365 - accuracy: 0.9562 - val_loss: 0.1021 - val_accuracy: 0.9701\n",
      "Epoch 10/50\n",
      "68/68 [==============================] - 1s 9ms/step - loss: 0.1199 - accuracy: 0.9633 - val_loss: 0.0799 - val_accuracy: 0.9751\n",
      "Epoch 11/50\n",
      "68/68 [==============================] - 1s 9ms/step - loss: 0.1137 - accuracy: 0.9640 - val_loss: 0.0756 - val_accuracy: 0.9767\n",
      "Epoch 12/50\n",
      "68/68 [==============================] - 1s 10ms/step - loss: 0.1085 - accuracy: 0.9664 - val_loss: 0.0732 - val_accuracy: 0.9779\n",
      "Epoch 13/50\n",
      "68/68 [==============================] - 1s 9ms/step - loss: 0.1033 - accuracy: 0.9682 - val_loss: 0.0941 - val_accuracy: 0.9704\n",
      "Epoch 14/50\n",
      "68/68 [==============================] - 1s 10ms/step - loss: 0.1007 - accuracy: 0.9682 - val_loss: 0.0627 - val_accuracy: 0.9821\n",
      "Epoch 15/50\n",
      "68/68 [==============================] - 1s 11ms/step - loss: 0.0930 - accuracy: 0.9705 - val_loss: 0.0632 - val_accuracy: 0.9811\n",
      "Epoch 16/50\n",
      "68/68 [==============================] - 1s 11ms/step - loss: 0.0903 - accuracy: 0.9718 - val_loss: 0.0596 - val_accuracy: 0.9811\n",
      "Epoch 17/50\n",
      "68/68 [==============================] - 1s 10ms/step - loss: 0.0852 - accuracy: 0.9732 - val_loss: 0.0611 - val_accuracy: 0.9821\n",
      "Epoch 18/50\n",
      "68/68 [==============================] - 1s 10ms/step - loss: 0.0839 - accuracy: 0.9730 - val_loss: 0.0620 - val_accuracy: 0.9817\n",
      "Epoch 19/50\n",
      "68/68 [==============================] - 1s 10ms/step - loss: 0.0779 - accuracy: 0.9759 - val_loss: 0.0667 - val_accuracy: 0.9796\n",
      "Epoch 20/50\n",
      "68/68 [==============================] - 1s 10ms/step - loss: 0.0768 - accuracy: 0.9743 - val_loss: 0.0635 - val_accuracy: 0.9805\n",
      "Epoch 21/50\n",
      "68/68 [==============================] - 1s 10ms/step - loss: 0.0775 - accuracy: 0.9749 - val_loss: 0.0617 - val_accuracy: 0.9808\n",
      "Epoch 22/50\n",
      "68/68 [==============================] - 1s 12ms/step - loss: 0.0721 - accuracy: 0.9772 - val_loss: 0.0525 - val_accuracy: 0.9832\n",
      "Epoch 23/50\n",
      "68/68 [==============================] - 1s 10ms/step - loss: 0.0711 - accuracy: 0.9774 - val_loss: 0.0511 - val_accuracy: 0.9851\n",
      "Epoch 24/50\n",
      "68/68 [==============================] - 1s 10ms/step - loss: 0.0685 - accuracy: 0.9777 - val_loss: 0.0567 - val_accuracy: 0.9820\n",
      "Epoch 25/50\n",
      "68/68 [==============================] - 1s 10ms/step - loss: 0.0669 - accuracy: 0.9785 - val_loss: 0.0530 - val_accuracy: 0.9835\n",
      "Epoch 26/50\n",
      "68/68 [==============================] - 1s 10ms/step - loss: 0.0662 - accuracy: 0.9781 - val_loss: 0.0529 - val_accuracy: 0.9838\n",
      "Epoch 27/50\n",
      "68/68 [==============================] - 1s 10ms/step - loss: 0.0641 - accuracy: 0.9798 - val_loss: 0.0468 - val_accuracy: 0.9862\n",
      "Epoch 28/50\n",
      "68/68 [==============================] - 1s 10ms/step - loss: 0.0613 - accuracy: 0.9800 - val_loss: 0.0483 - val_accuracy: 0.9860\n",
      "Epoch 29/50\n",
      "68/68 [==============================] - 1s 10ms/step - loss: 0.0599 - accuracy: 0.9810 - val_loss: 0.0517 - val_accuracy: 0.9842\n",
      "Epoch 30/50\n",
      "68/68 [==============================] - 1s 10ms/step - loss: 0.0594 - accuracy: 0.9805 - val_loss: 0.0475 - val_accuracy: 0.9856\n",
      "Epoch 31/50\n",
      "68/68 [==============================] - 1s 11ms/step - loss: 0.0593 - accuracy: 0.9808 - val_loss: 0.0497 - val_accuracy: 0.9848\n",
      "Epoch 32/50\n",
      "68/68 [==============================] - 1s 11ms/step - loss: 0.0548 - accuracy: 0.9823 - val_loss: 0.0529 - val_accuracy: 0.9848\n",
      "Epoch 33/50\n",
      "68/68 [==============================] - 1s 9ms/step - loss: 0.0529 - accuracy: 0.9828 - val_loss: 0.0437 - val_accuracy: 0.9867\n",
      "Epoch 34/50\n",
      "68/68 [==============================] - 1s 10ms/step - loss: 0.0508 - accuracy: 0.9836 - val_loss: 0.0465 - val_accuracy: 0.9848\n",
      "Epoch 35/50\n",
      "68/68 [==============================] - 1s 10ms/step - loss: 0.0546 - accuracy: 0.9815 - val_loss: 0.0469 - val_accuracy: 0.9863\n",
      "Epoch 36/50\n",
      "68/68 [==============================] - 1s 10ms/step - loss: 0.0500 - accuracy: 0.9835 - val_loss: 0.0472 - val_accuracy: 0.9855\n",
      "Epoch 37/50\n",
      "68/68 [==============================] - 1s 10ms/step - loss: 0.0490 - accuracy: 0.9841 - val_loss: 0.0500 - val_accuracy: 0.9857\n",
      "Epoch 38/50\n",
      "68/68 [==============================] - 1s 10ms/step - loss: 0.0552 - accuracy: 0.9816 - val_loss: 0.0513 - val_accuracy: 0.9845\n",
      "Epoch 39/50\n",
      "68/68 [==============================] - 1s 10ms/step - loss: 0.0492 - accuracy: 0.9842 - val_loss: 0.0474 - val_accuracy: 0.9860\n",
      "Epoch 40/50\n",
      "68/68 [==============================] - 1s 10ms/step - loss: 0.0478 - accuracy: 0.9849 - val_loss: 0.0571 - val_accuracy: 0.9829\n",
      "Epoch 41/50\n",
      "68/68 [==============================] - 1s 10ms/step - loss: 0.0484 - accuracy: 0.9840 - val_loss: 0.0502 - val_accuracy: 0.9840\n",
      "Epoch 42/50\n",
      "68/68 [==============================] - 1s 10ms/step - loss: 0.0448 - accuracy: 0.9850 - val_loss: 0.0425 - val_accuracy: 0.9881\n",
      "Epoch 43/50\n",
      "68/68 [==============================] - 1s 10ms/step - loss: 0.0447 - accuracy: 0.9851 - val_loss: 0.0476 - val_accuracy: 0.9865\n",
      "Epoch 44/50\n",
      "68/68 [==============================] - 1s 10ms/step - loss: 0.0432 - accuracy: 0.9863 - val_loss: 0.0440 - val_accuracy: 0.9881\n",
      "Epoch 45/50\n",
      "68/68 [==============================] - 1s 11ms/step - loss: 0.0460 - accuracy: 0.9846 - val_loss: 0.0441 - val_accuracy: 0.9870\n",
      "Epoch 46/50\n",
      "68/68 [==============================] - 1s 13ms/step - loss: 0.0446 - accuracy: 0.9844 - val_loss: 0.0534 - val_accuracy: 0.9842\n",
      "Epoch 47/50\n",
      "68/68 [==============================] - 1s 14ms/step - loss: 0.0410 - accuracy: 0.9863 - val_loss: 0.0431 - val_accuracy: 0.9873\n",
      "Epoch 48/50\n",
      "68/68 [==============================] - 1s 10ms/step - loss: 0.0406 - accuracy: 0.9860 - val_loss: 0.0490 - val_accuracy: 0.9868\n",
      "Epoch 49/50\n",
      "68/68 [==============================] - 1s 10ms/step - loss: 0.0408 - accuracy: 0.9868 - val_loss: 0.0420 - val_accuracy: 0.9877\n",
      "Epoch 50/50\n",
      "68/68 [==============================] - 1s 11ms/step - loss: 0.0410 - accuracy: 0.9862 - val_loss: 0.0483 - val_accuracy: 0.9857\n"
     ]
    }
   ],
   "source": [
    "# to avoid overfitting\n",
    "early_stopping = keras.callbacks.EarlyStopping(\n",
    "    patience=10,\n",
    "    min_delta=0.001,\n",
    "    restore_best_weights=True,\n",
    ")\n",
    "\n",
    "history = model.fit(X_train, y_train, validation_split=0.2, epochs=50, batch_size=500, callbacks=[early_stopping],\n",
    "    verbose=1)"
   ]
  },
  {
   "cell_type": "code",
   "execution_count": 7,
   "id": "ce6dd2c1",
   "metadata": {
    "execution": {
     "iopub.execute_input": "2022-06-05T06:32:54.795339Z",
     "iopub.status.busy": "2022-06-05T06:32:54.794987Z",
     "iopub.status.idle": "2022-06-05T06:32:55.222587Z",
     "shell.execute_reply": "2022-06-05T06:32:55.220742Z"
    },
    "papermill": {
     "duration": 0.479157,
     "end_time": "2022-06-05T06:32:55.224760",
     "exception": false,
     "start_time": "2022-06-05T06:32:54.745603",
     "status": "completed"
    },
    "tags": []
   },
   "outputs": [
    {
     "name": "stdout",
     "output_type": "stream",
     "text": [
      "Best Validation Loss: 0.0420\n",
      "Best Validation accuracy: 0.9881\n"
     ]
    },
    {
     "data": {
      "image/png": "[encoded data removed]",
      "text/plain": [
       "<Figure size 432x288 with 1 Axes>"
      ]
     },
     "metadata": {
      "needs_background": "light"
     },
     "output_type": "display_data"
    },
    {
     "data": {
      "image/png": "[encoded data removed]",
      "text/plain": [
       "<Figure size 432x288 with 1 Axes>"
      ]
     },
     "metadata": {
      "needs_background": "light"
     },
     "output_type": "display_data"
    }
   ],
   "source": [
    "history_df = pd.DataFrame(history.history)\n",
    "\n",
    "history_df.loc[:, ['loss', 'val_loss']].plot()\n",
    "history_df.loc[:, ['accuracy', 'val_accuracy']].plot()\n",
    "\n",
    "print((\"Best Validation Loss: {:0.4f}\" +\\\n",
    "      \"\\nBest Validation accuracy: {:0.4f}\")\\\n",
    "      .format(history_df['val_loss'].min(), \n",
    "              history_df['val_accuracy'].max()))"
   ]
  },
  {
   "cell_type": "code",
   "execution_count": 8,
   "id": "c7986dae",
   "metadata": {
    "execution": {
     "iopub.execute_input": "2022-06-05T06:32:55.318688Z",
     "iopub.status.busy": "2022-06-05T06:32:55.318326Z",
     "iopub.status.idle": "2022-06-05T06:32:57.041841Z",
     "shell.execute_reply": "2022-06-05T06:32:57.040898Z"
    },
    "papermill": {
     "duration": 1.773059,
     "end_time": "2022-06-05T06:32:57.044829",
     "exception": false,
     "start_time": "2022-06-05T06:32:55.271770",
     "status": "completed"
    },
    "tags": []
   },
   "outputs": [
    {
     "name": "stdout",
     "output_type": "stream",
     "text": [
      "[1.8513876e-07 3.0095548e-11 2.9669841e-06 9.7057817e-10 2.1261220e-08\n",
      " 2.2191269e-08 9.9999690e-01 1.2613889e-10 1.2236917e-08 2.6804474e-11]\n",
      "6\n"
     ]
    }
   ],
   "source": [
    "pred = model.predict(X_test)\n",
    "y_pred = np.argmax(pred, axis=1)\n",
    "print(pred[34])\n",
    "print(y_pred[34])"
   ]
  },
  {
   "cell_type": "code",
   "execution_count": 9,
   "id": "ec0ea0f1",
   "metadata": {
    "execution": {
     "iopub.execute_input": "2022-06-05T06:32:57.139753Z",
     "iopub.status.busy": "2022-06-05T06:32:57.139339Z",
     "iopub.status.idle": "2022-06-05T06:32:57.158925Z",
     "shell.execute_reply": "2022-06-05T06:32:57.157962Z"
    },
    "papermill": {
     "duration": 0.068155,
     "end_time": "2022-06-05T06:32:57.161341",
     "exception": false,
     "start_time": "2022-06-05T06:32:57.093186",
     "status": "completed"
    },
    "tags": []
   },
   "outputs": [
    {
     "data": {
      "text/html": [
       "<div>\n",
       "<style scoped>\n",
       "    .dataframe tbody tr th:only-of-type {\n",
       "        vertical-align: middle;\n",
       "    }\n",
       "\n",
       "    .dataframe tbody tr th {\n",
       "        vertical-align: top;\n",
       "    }\n",
       "\n",
       "    .dataframe thead th {\n",
       "        text-align: right;\n",
       "    }\n",
       "</style>\n",
       "<table border=\"1\" class=\"dataframe\">\n",
       "  <thead>\n",
       "    <tr style=\"text-align: right;\">\n",
       "      <th></th>\n",
       "      <th>ImageId</th>\n",
       "      <th>Label</th>\n",
       "    </tr>\n",
       "  </thead>\n",
       "  <tbody>\n",
       "    <tr>\n",
       "      <th>0</th>\n",
       "      <td>1</td>\n",
       "      <td>2</td>\n",
       "    </tr>\n",
       "    <tr>\n",
       "      <th>1</th>\n",
       "      <td>2</td>\n",
       "      <td>0</td>\n",
       "    </tr>\n",
       "    <tr>\n",
       "      <th>2</th>\n",
       "      <td>3</td>\n",
       "      <td>9</td>\n",
       "    </tr>\n",
       "    <tr>\n",
       "      <th>3</th>\n",
       "      <td>4</td>\n",
       "      <td>9</td>\n",
       "    </tr>\n",
       "    <tr>\n",
       "      <th>4</th>\n",
       "      <td>5</td>\n",
       "      <td>3</td>\n",
       "    </tr>\n",
       "  </tbody>\n",
       "</table>\n",
       "</div>"
      ],
      "text/plain": [
       "   ImageId  Label\n",
       "0        1      2\n",
       "1        2      0\n",
       "2        3      9\n",
       "3        4      9\n",
       "4        5      3"
      ]
     },
     "execution_count": 9,
     "metadata": {},
     "output_type": "execute_result"
    }
   ],
   "source": [
    "submission = pd.DataFrame()\n",
    "submission[\"ImageId\"] = range(1, len(y_pred) + 1)\n",
    "submission[\"Label\"] = y_pred\n",
    "submission.head(5)"
   ]
  },
  {
   "cell_type": "code",
   "execution_count": 10,
   "id": "a2e5b584",
   "metadata": {
    "execution": {
     "iopub.execute_input": "2022-06-05T06:32:57.254332Z",
     "iopub.status.busy": "2022-06-05T06:32:57.253541Z",
     "iopub.status.idle": "2022-06-05T06:32:57.300793Z",
     "shell.execute_reply": "2022-06-05T06:32:57.299906Z"
    },
    "papermill": {
     "duration": 0.095306,
     "end_time": "2022-06-05T06:32:57.302956",
     "exception": false,
     "start_time": "2022-06-05T06:32:57.207650",
     "status": "completed"
    },
    "tags": []
   },
   "outputs": [],
   "source": [
    "submission.to_csv('submission.csv', index = False)"
   ]
  }
 ],
 "metadata": {
  "kernelspec": {
   "display_name": "Python 3",
   "language": "python",
   "name": "python3"
  },
  "language_info": {
   "codemirror_mode": {
    "name": "ipython",
    "version": 3
   },
   "file_extension": ".py",
   "mimetype": "text/x-python",
   "name": "python",
   "nbconvert_exporter": "python",
   "pygments_lexer": "ipython3",
   "version": "3.7.12"
  },
  "papermill": {
   "default_parameters": {},
   "duration": 113.525979,
   "end_time": "2022-06-05T06:33:00.775301",
   "environment_variables": {},
   "exception": null,
   "input_path": "__notebook__.ipynb",
   "output_path": "__notebook__.ipynb",
   "parameters": {},
   "start_time": "2022-06-05T06:31:07.249322",
   "version": "2.3.4"
  }
 },
 "nbformat": 4,
 "nbformat_minor": 5
}
